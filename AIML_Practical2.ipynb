{
  "nbformat": 4,
  "nbformat_minor": 0,
  "metadata": {
    "colab": {
      "provenance": [],
      "authorship_tag": "ABX9TyP8WyWj0XhAnR2E7TWzylQh",
      "include_colab_link": true
    },
    "kernelspec": {
      "name": "python3",
      "display_name": "Python 3"
    },
    "language_info": {
      "name": "python"
    }
  },
  "cells": [
    {
      "cell_type": "markdown",
      "metadata": {
        "id": "view-in-github",
        "colab_type": "text"
      },
      "source": [
        "<a href=\"https://colab.research.google.com/github/ShafinBeLike/AIML-Projects/blob/main/AIML_Practical2.ipynb\" target=\"_parent\"><img src=\"https://colab.research.google.com/assets/colab-badge.svg\" alt=\"Open In Colab\"/></a>"
      ]
    },
    {
      "cell_type": "code",
      "execution_count": 1,
      "metadata": {
        "colab": {
          "base_uri": "https://localhost:8080/"
        },
        "id": "21eomk6n3JTA",
        "outputId": "21de009f-9258-45cd-f0b2-6f7b8ded12ef"
      },
      "outputs": [
        {
          "output_type": "stream",
          "name": "stdout",
          "text": [
            "ReLU Output:\n",
            "[[0.61 0.28]\n",
            " [0.74 0.44]]\n",
            "Sigmoid actication Output:\n",
            "[[0.6479408  0.56954622]\n",
            " [0.67699586 0.60825903]]\n",
            "Tanh actication Output:\n",
            "[[0.5441271  0.27290508]\n",
            " [0.62914516 0.41364444]]\n"
          ]
        }
      ],
      "source": [
        "import numpy as np\n",
        "\n",
        "def relu(x):\n",
        "    return np.maximum(0, x)\n",
        "\n",
        "def sigmoid(x):\n",
        "    return 1 / (1 + np.exp(-x))\n",
        "\n",
        "def tanh(x):\n",
        "    return np.tanh(x)\n",
        "\n",
        "input_data= np.array([[0.5,0.2],[0.3,0.7]])\n",
        "weights=np.array([[0.1,0.2],[0.3,0.4]])\n",
        "biases=np.array([0.5,0.1])\n",
        "\n",
        "def single_layer_forward (input_data, weights, biases, actication_func):\n",
        "  weighted_sum = np.dot(input_data, weights) + biases\n",
        "  output = actication_func(weighted_sum)\n",
        "  return output\n",
        "\n",
        "output_relu=single_layer_forward(input_data, weights, biases, relu)\n",
        "print(\"ReLU Output:\")\n",
        "print(output_relu)\n",
        "\n",
        "output_sigmoid=single_layer_forward(input_data, weights, biases, sigmoid)\n",
        "print(\"Sigmoid actication Output:\")\n",
        "print(output_sigmoid)\n",
        "\n",
        "output_tanh=single_layer_forward(input_data, weights, biases, tanh)\n",
        "print(\"Tanh actication Output:\")\n",
        "print(output_tanh)"
      ]
    }
  ]
}