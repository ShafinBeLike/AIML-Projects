{
  "nbformat": 4,
  "nbformat_minor": 0,
  "metadata": {
    "colab": {
      "provenance": [],
      "authorship_tag": "ABX9TyPDf2qpDRIv4rOwDkUv8ZtI",
      "include_colab_link": true
    },
    "kernelspec": {
      "name": "python3",
      "display_name": "Python 3"
    },
    "language_info": {
      "name": "python"
    }
  },
  "cells": [
    {
      "cell_type": "markdown",
      "metadata": {
        "id": "view-in-github",
        "colab_type": "text"
      },
      "source": [
        "<a href=\"https://colab.research.google.com/github/ShafinBeLike/AIML-Projects/blob/main/Aiml_Practical_3.ipynb\" target=\"_parent\"><img src=\"https://colab.research.google.com/assets/colab-badge.svg\" alt=\"Open In Colab\"/></a>"
      ]
    },
    {
      "cell_type": "code",
      "execution_count": 1,
      "metadata": {
        "colab": {
          "base_uri": "https://localhost:8080/"
        },
        "id": "U2EaEMtO7JoA",
        "outputId": "ac7b1989-be4c-4c14-ffe5-164489694d3d"
      },
      "outputs": [
        {
          "output_type": "stream",
          "name": "stdout",
          "text": [
            "Single-Layer neural network output:\n",
            "[[0.59316751]\n",
            " [0.70229986]]\n"
          ]
        }
      ],
      "source": [
        "# SINGLE LAYER NEURAL NETWORK\n",
        "import numpy as np\n",
        "\n",
        "class SingleLayerNN:\n",
        "    def __init__(self, input_size, output_size):\n",
        "        self.input_size = input_size\n",
        "        self.output_size = output_size\n",
        "        self.weights = np.random.rand(input_size, output_size)\n",
        "        self.biases = np.random.rand(output_size)\n",
        "\n",
        "    def sigmoid(self, x):\n",
        "        return 1 / (1 + np.exp(-x))\n",
        "\n",
        "    def forward(self, input_data):\n",
        "        weighted_sum = np.dot(input_data, self.weights) + self.biases\n",
        "        output = self.sigmoid(weighted_sum)\n",
        "        return output\n",
        "\n",
        "# Input data\n",
        "input_data = np.array([[0.5, 0.2], [0.3, 0.7]])\n",
        "nn = SingleLayerNN(input_size=2, output_size=1)\n",
        "output_single_layer = nn.forward(input_data)\n",
        "print(\"Single-Layer neural network output:\")\n",
        "print(output_single_layer)"
      ]
    },
    {
      "cell_type": "code",
      "source": [
        "# MULTI LAYER NEURAL NETWORK\n",
        "import numpy as np\n",
        "\n",
        "class MultiLayerNN:\n",
        "    def __init__(self, layer_sizes):\n",
        "        self.layer_sizes = layer_sizes\n",
        "        self.num_layers = len(layer_sizes)\n",
        "        # Initialize weights and biases\n",
        "        self.weights = [\n",
        "            np.random.rand(layer_sizes[i], layer_sizes[i + 1])\n",
        "            for i in range(self.num_layers - 1)\n",
        "        ]\n",
        "        self.biases = [\n",
        "            np.random.rand(layer_sizes[i + 1])\n",
        "            for i in range(self.num_layers - 1)\n",
        "        ]\n",
        "\n",
        "    def sigmoid(self, x):\n",
        "        return 1 / (1 + np.exp(-x))\n",
        "\n",
        "    def forward(self, input_data):\n",
        "        output = input_data\n",
        "        for i in range(self.num_layers - 1):\n",
        "            weighted_sum = np.dot(output, self.weights[i]) + self.biases[i]\n",
        "            output = self.sigmoid(weighted_sum)\n",
        "        return output\n",
        "\n",
        "# Input data\n",
        "input_data = np.array([[0.5, 0.2], [0.3, 0.7]])\n",
        "nn = MultiLayerNN(layer_sizes=[2, 3, 1])\n",
        "output_multi_layer = nn.forward(input_data)\n",
        "print(\"Multi-layer neural network output:\")\n",
        "print(output_multi_layer)"
      ],
      "metadata": {
        "colab": {
          "base_uri": "https://localhost:8080/"
        },
        "id": "paD0oaGi8u4X",
        "outputId": "312607f8-cd4f-4be6-b3d4-68e89deb7c26"
      },
      "execution_count": 2,
      "outputs": [
        {
          "output_type": "stream",
          "name": "stdout",
          "text": [
            "Multi-layer neural network output:\n",
            "[[0.87775058]\n",
            " [0.88018379]]\n"
          ]
        }
      ]
    }
  ]
}